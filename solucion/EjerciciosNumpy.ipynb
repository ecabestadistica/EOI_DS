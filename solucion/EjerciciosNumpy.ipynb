{
  "nbformat": 4,
  "nbformat_minor": 0,
  "metadata": {
    "colab": {
      "name": "EjerciciosNumpy.ipynb",
      "provenance": []
    },
    "kernelspec": {
      "name": "python3",
      "display_name": "Python 3"
    }
  },
  "cells": [
    {
      "cell_type": "code",
      "metadata": {
        "id": "KH4dWom5UCw3",
        "colab_type": "code",
        "outputId": "99967aaf-3cb7-4554-9132-efa4dd01cb81",
        "colab": {
          "base_uri": "https://localhost:8080/",
          "height": 35
        }
      },
      "source": [
        "#Ejercicio 1\n",
        "#Crea un array 1D que tenga como salida #> array([0, 1, 2, 3, 4, 5, 6, 7, 8, 9])\n",
        "\n",
        "import numpy as np\n",
        "arr = np.arange(10)\n",
        "arr\n"
      ],
      "execution_count": 0,
      "outputs": [
        {
          "output_type": "execute_result",
          "data": {
            "text/plain": [
              "array([0, 1, 2, 3, 4, 5, 6, 7, 8, 9])"
            ]
          },
          "metadata": {
            "tags": []
          },
          "execution_count": 2
        }
      ]
    },
    {
      "cell_type": "code",
      "metadata": {
        "id": "vv47owdzUVp-",
        "colab_type": "code",
        "outputId": "6d606ecb-7d56-4846-bbb3-add112ffae67",
        "colab": {
          "base_uri": "https://localhost:8080/",
          "height": 35
        }
      },
      "source": [
        "#Ejercicio 2\n",
        "#Extraer del array  array([0, 1, 2, 3, 4, 5, 6, 7, 8, 9]) aquellos valores mayores a 3\n",
        "res = arr[arr>3]\n",
        "res"
      ],
      "execution_count": 0,
      "outputs": [
        {
          "output_type": "execute_result",
          "data": {
            "text/plain": [
              "array([4, 5, 6, 7, 8, 9])"
            ]
          },
          "metadata": {
            "tags": []
          },
          "execution_count": 3
        }
      ]
    },
    {
      "cell_type": "code",
      "metadata": {
        "id": "rZZJJqmbUoGX",
        "colab_type": "code",
        "outputId": "435e7574-6df7-4fe1-b048-15a67292a04b",
        "colab": {
          "base_uri": "https://localhost:8080/",
          "height": 34
        }
      },
      "source": [
        "#Ejercicio 3\n",
        "#Extraer del array  array([0, 1, 2, 3, 4, 5, 6, 7, 8, 9]) aquellos valores impares (Pista operacion %)\n",
        "import numpy as np\n",
        "arr = np.arange(10)\n",
        "arr[arr % 2 == 1]\n",
        "np.where(arr%2==1, 0, arr)"
      ],
      "execution_count": 2,
      "outputs": [
        {
          "output_type": "execute_result",
          "data": {
            "text/plain": [
              "array([0, 0, 2, 0, 4, 0, 6, 0, 8, 0])"
            ]
          },
          "metadata": {
            "tags": []
          },
          "execution_count": 2
        }
      ]
    },
    {
      "cell_type": "code",
      "metadata": {
        "id": "UeWPdkgBUymV",
        "colab_type": "code",
        "outputId": "a6034919-18e4-4dc0-b3bb-483bbeee58a3",
        "colab": {
          "base_uri": "https://localhost:8080/",
          "height": 35
        }
      },
      "source": [
        "#Ejercicio 4\n",
        "#Reemplazar del array  array([0, 1, 2, 3, 4, 5, 6, 7, 8, 9]) aquellos valores impares por 0\n",
        "arr[arr % 2 == 1] =0\n",
        "arr"
      ],
      "execution_count": 0,
      "outputs": [
        {
          "output_type": "execute_result",
          "data": {
            "text/plain": [
              "array([0, 0, 2, 0, 4, 0, 6, 0, 8, 0])"
            ]
          },
          "metadata": {
            "tags": []
          },
          "execution_count": 5
        }
      ]
    },
    {
      "cell_type": "code",
      "metadata": {
        "id": "5UMUOZXtVIAO",
        "colab_type": "code",
        "outputId": "bdb48cae-d313-447d-9130-39b0f6b73a1f",
        "colab": {
          "base_uri": "https://localhost:8080/",
          "height": 54
        }
      },
      "source": [
        "#Ejercicio 5\n",
        "#Conviertel el arrray array([0, 1, 2, 3, 4, 5, 6, 7, 8, 9]) de 1D a 2D\n",
        "#> array([[0, 1, 2, 3, 4],\n",
        "#>        [5, 6, 7, 8, 9]])\n",
        "\n",
        "arr = np.arange(10)\n",
        "arr.reshape(2,5)"
      ],
      "execution_count": 0,
      "outputs": [
        {
          "output_type": "execute_result",
          "data": {
            "text/plain": [
              "array([[0, 1, 2, 3, 4],\n",
              "       [5, 6, 7, 8, 9]])"
            ]
          },
          "metadata": {
            "tags": []
          },
          "execution_count": 13
        }
      ]
    },
    {
      "cell_type": "code",
      "metadata": {
        "id": "S4aMisbcVmDW",
        "colab_type": "code",
        "outputId": "3215999e-b4e3-4dfb-e802-e8097a76465a",
        "colab": {
          "base_uri": "https://localhost:8080/",
          "height": 221
        }
      },
      "source": [
        "#Ejercicio 6\n",
        "#Crear un array de dim10 con dimension (2,-1) y otro de dim10 con dimension (2,-1) y concatenalos axis 0 (vertical)\n",
        "a = np.arange(10).reshape(2,-1)\n",
        "print(a)\n",
        "b = np.repeat(1, 10).reshape(2,-1)\n",
        "print(b)\n",
        "print(np.concatenate([a,b], axis=0))\n",
        "print(np.vstack([a,b]))"
      ],
      "execution_count": 3,
      "outputs": [
        {
          "output_type": "stream",
          "text": [
            "[[0 1 2 3 4]\n",
            " [5 6 7 8 9]]\n",
            "[[1 1 1 1 1]\n",
            " [1 1 1 1 1]]\n",
            "[[0 1 2 3 4]\n",
            " [5 6 7 8 9]\n",
            " [1 1 1 1 1]\n",
            " [1 1 1 1 1]]\n",
            "[[0 1 2 3 4]\n",
            " [5 6 7 8 9]\n",
            " [1 1 1 1 1]\n",
            " [1 1 1 1 1]]\n"
          ],
          "name": "stdout"
        }
      ]
    },
    {
      "cell_type": "code",
      "metadata": {
        "id": "cklUrgzQWXmB",
        "colab_type": "code",
        "outputId": "b719b1e9-7ab1-4b02-a5f7-70022049456e",
        "colab": {
          "base_uri": "https://localhost:8080/",
          "height": 35
        }
      },
      "source": [
        "#Ejercicio 7\n",
        "#Devuelve los valores en comun entre dos arrays dados\n",
        "# a = np.array([1,2,3,2,3,4,3,4,5,6])\n",
        "#b = np.array([7,2,10,2,7,4,9,4,9,8])\n",
        "a = np.array([1,2,3,2,3,4,3,4,5,6])\n",
        "b = np.array([7,2,10,2,7,4,9,4,9,8])\n",
        "np.intersect1d(a,b)"
      ],
      "execution_count": 0,
      "outputs": [
        {
          "output_type": "execute_result",
          "data": {
            "text/plain": [
              "array([2, 4])"
            ]
          },
          "metadata": {
            "tags": []
          },
          "execution_count": 15
        }
      ]
    },
    {
      "cell_type": "code",
      "metadata": {
        "id": "q3UmZ8ybW62u",
        "colab_type": "code",
        "outputId": "060feab5-7ad8-40a6-bb65-0addf26519e1",
        "colab": {
          "base_uri": "https://localhost:8080/",
          "height": 34
        }
      },
      "source": [
        "#Ejercicio 8\n",
        "#Devuelve los valores diferentes entre dos arrays\n",
        "#a = np.array([1,2,3,4,5])\n",
        "#b = np.array([5,6,7,8,9])\n",
        "a = np.array([1,2,3,4,5])\n",
        "b = np.array([5,6,7,8,9])\n",
        "adiff =np.setdiff1d(a,b)\n",
        "bdiff =np.setdiff1d(b,a)\n",
        "res = np.concatenate((adiff, bdiff))\n",
        "res"
      ],
      "execution_count": 8,
      "outputs": [
        {
          "output_type": "execute_result",
          "data": {
            "text/plain": [
              "array([1, 2, 3, 4, 6, 7, 8, 9])"
            ]
          },
          "metadata": {
            "tags": []
          },
          "execution_count": 8
        }
      ]
    },
    {
      "cell_type": "code",
      "metadata": {
        "id": "ig6HS_LXXWMK",
        "colab_type": "code",
        "outputId": "2a6c35ab-7656-4225-dab8-f3f00e283dc4",
        "colab": {
          "base_uri": "https://localhost:8080/",
          "height": 34
        }
      },
      "source": [
        "#Ejercicio 9\n",
        "#Dados los siguientes arrays:\n",
        "#a = np.array([1,2,3,2,3,4,3,4,5,6])\n",
        "#b = np.array([7,2,10,2,7,4,9,4,9,8])\n",
        "#Devolver las posiciones donde A y B son iguales\n",
        "a = np.array([1,2,3,2,3,4,3,4,5,6])\n",
        "b = np.array([7,2,10,2,7,4,9,4,9,8])\n",
        "\n",
        "np.where(a == b)[0]"
      ],
      "execution_count": 10,
      "outputs": [
        {
          "output_type": "execute_result",
          "data": {
            "text/plain": [
              "array([1, 3, 5, 7])"
            ]
          },
          "metadata": {
            "tags": []
          },
          "execution_count": 10
        }
      ]
    },
    {
      "cell_type": "code",
      "metadata": {
        "id": "xqYZZu7zYUY4",
        "colab_type": "code",
        "outputId": "0aeaecf0-4b95-4351-9997-b15d23199f24",
        "colab": {
          "base_uri": "https://localhost:8080/",
          "height": 248
        }
      },
      "source": [
        "#Ejercicio 10\n",
        "# A partir de un array a obtener las posiciones de los valores duplicados\n",
        "# Array: [0 0 3 0 2 4 2 2 2 2]\n",
        "# resultado: #> [False  True False  True False False  True  True  True  True]\n",
        "a = np.array([0,0,3,0,2,4,2,2,2,2])\n",
        "out = np.full(a.shape[0], True)\n",
        "print(out)\n",
        "unique_positions = np.unique(a, return_index=True)\n",
        "print(unique_positions)\n",
        "out[unique_positions]= False\n",
        "out"
      ],
      "execution_count": 14,
      "outputs": [
        {
          "output_type": "stream",
          "text": [
            "[ True  True  True  True  True  True  True  True  True  True]\n",
            "(array([0, 2, 3, 4]), array([0, 4, 2, 5]))\n"
          ],
          "name": "stdout"
        },
        {
          "output_type": "error",
          "ename": "IndexError",
          "evalue": "ignored",
          "traceback": [
            "\u001b[0;31m---------------------------------------------------------------------------\u001b[0m",
            "\u001b[0;31mIndexError\u001b[0m                                Traceback (most recent call last)",
            "\u001b[0;32m<ipython-input-14-2f0ec08df019>\u001b[0m in \u001b[0;36m<module>\u001b[0;34m()\u001b[0m\n\u001b[1;32m      4\u001b[0m \u001b[0munique_positions\u001b[0m \u001b[0;34m=\u001b[0m \u001b[0mnp\u001b[0m\u001b[0;34m.\u001b[0m\u001b[0munique\u001b[0m\u001b[0;34m(\u001b[0m\u001b[0ma\u001b[0m\u001b[0;34m,\u001b[0m \u001b[0mreturn_index\u001b[0m\u001b[0;34m=\u001b[0m\u001b[0;32mTrue\u001b[0m\u001b[0;34m)\u001b[0m\u001b[0;34m\u001b[0m\u001b[0;34m\u001b[0m\u001b[0m\n\u001b[1;32m      5\u001b[0m \u001b[0mprint\u001b[0m\u001b[0;34m(\u001b[0m\u001b[0munique_positions\u001b[0m\u001b[0;34m)\u001b[0m\u001b[0;34m\u001b[0m\u001b[0;34m\u001b[0m\u001b[0m\n\u001b[0;32m----> 6\u001b[0;31m \u001b[0mout\u001b[0m\u001b[0;34m[\u001b[0m\u001b[0munique_positions\u001b[0m\u001b[0;34m]\u001b[0m\u001b[0;34m=\u001b[0m \u001b[0;32mFalse\u001b[0m\u001b[0;34m\u001b[0m\u001b[0;34m\u001b[0m\u001b[0m\n\u001b[0m\u001b[1;32m      7\u001b[0m \u001b[0mout\u001b[0m\u001b[0;34m\u001b[0m\u001b[0;34m\u001b[0m\u001b[0m\n",
            "\u001b[0;31mIndexError\u001b[0m: too many indices for array"
          ]
        }
      ]
    }
  ]
}